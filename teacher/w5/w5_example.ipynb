{
 "cells": [
  {
   "cell_type": "code",
   "execution_count": 4,
   "id": "a6a3a1dc-dc64-42c8-bcc8-8a13dd798d42",
   "metadata": {},
   "outputs": [
    {
     "name": "stdout",
     "output_type": "stream",
     "text": [
      "Hello \n",
      "Nothing went wrong\n",
      "The 'try except' is finished\n"
     ]
    }
   ],
   "source": [
    "try:\n",
    "  print(\"Hello \")    \n",
    "  x = 0\n",
    "\n",
    "  if x < 0:\n",
    "    raise Exception(\"Sorry, no numbers below zero\")\n",
    "except:\n",
    "  print(\"Something went wrong\")\n",
    "else:\n",
    "  print(\"Nothing went wrong\")  \n",
    "finally:\n",
    "  print(\"The 'try except' is finished\")"
   ]
  },
  {
   "cell_type": "code",
   "execution_count": 5,
   "id": "b04c842e-6775-4016-b87c-c816198e3ce3",
   "metadata": {},
   "outputs": [
    {
     "name": "stdout",
     "output_type": "stream",
     "text": [
      "Hello \n",
      "Something went wrong\n",
      "The 'try except' is finished\n"
     ]
    }
   ],
   "source": [
    "try:\n",
    "  print(\"Hello \")    \n",
    "  x = -1\n",
    "\n",
    "  if x < 0:\n",
    "    raise Exception(\"Sorry, no numbers below zero\")\n",
    "except:\n",
    "  print(\"Something went wrong\")\n",
    "else:\n",
    "  print(\"Nothing went wrong\")  \n",
    "finally:\n",
    "  print(\"The 'try except' is finished\")"
   ]
  },
  {
   "cell_type": "code",
   "execution_count": 7,
   "id": "68621c27-b14f-4d88-8c96-f62a200749ac",
   "metadata": {},
   "outputs": [
    {
     "name": "stdout",
     "output_type": "stream",
     "text": [
      "<tuple_iterator object at 0x0000012D9D4E9A50>\n",
      "apple\n",
      "banana\n",
      "cherry\n"
     ]
    }
   ],
   "source": [
    "mytuple = (\"apple\", \"banana\", \"cherry\")\n",
    "#first item\n",
    "myit = iter(mytuple)\n",
    "\n",
    "print(myit)\n",
    "print(next(myit))\n",
    "print(next(myit))\n",
    "print(next(myit))"
   ]
  },
  {
   "cell_type": "code",
   "execution_count": 9,
   "id": "d281f734-697b-4229-8535-217618f26041",
   "metadata": {},
   "outputs": [
    {
     "name": "stdout",
     "output_type": "stream",
     "text": [
      "<__main__.MyNumbers object at 0x0000012D9D50F850>\n",
      "1\n",
      "2\n",
      "3\n",
      "4\n",
      "5\n"
     ]
    }
   ],
   "source": [
    "class MyNumbers:\n",
    "  def __iter__(self):\n",
    "    self.a = 1\n",
    "    return self\n",
    "\n",
    "  def __next__(self):\n",
    "    x = self.a\n",
    "    self.a += 1\n",
    "    return x\n",
    "\n",
    "myclass = MyNumbers()\n",
    "myiter = iter(myclass)\n",
    "\n",
    "print (myiter)\n",
    "print(next(myiter))\n",
    "print(next(myiter))\n",
    "print(next(myiter))\n",
    "print(next(myiter))\n",
    "print(next(myiter))"
   ]
  },
  {
   "cell_type": "code",
   "execution_count": 6,
   "id": "557e5602-3f80-4eb3-bc1e-c7b3656a61f4",
   "metadata": {},
   "outputs": [
    {
     "name": "stdout",
     "output_type": "stream",
     "text": [
      "inner nonlocal: nonlocal\n",
      "inner local : nonlocal\n",
      "inner global : global\n",
      "\n",
      "\n",
      "outer nonlocal: nonlocal\n",
      "outer local : local\n",
      "outer global : global\n"
     ]
    }
   ],
   "source": [
    "globol_a=\"global\"\n",
    "def func_outer():\n",
    "    local_a = \"local\"\n",
    "    non_local_a=\"local\"\n",
    "    def func_inner():\n",
    "        nonlocal non_local_a\n",
    "        non_local_a = \"nonlocal\"\n",
    "        local_a=\"nonlocal\"\n",
    "        \n",
    "        print(\"inner nonlocal:\", non_local_a)\n",
    "        print(\"inner local :\", local_a)\n",
    "        print(\"inner global :\", globol_a)\n",
    "    func_inner()\n",
    "    print(\"\\n\")\n",
    "    print(\"outer nonlocal:\", non_local_a)\n",
    "    print(\"outer local :\", local_a)\n",
    "    print(\"outer global :\", globol_a)\n",
    "func_outer()"
   ]
  },
  {
   "cell_type": "code",
   "execution_count": null,
   "id": "5f808d5d-7f6f-4c03-8ccf-76093bc1d746",
   "metadata": {},
   "outputs": [],
   "source": []
  }
 ],
 "metadata": {
  "kernelspec": {
   "display_name": "Python 3 (ipykernel)",
   "language": "python",
   "name": "python3"
  },
  "language_info": {
   "codemirror_mode": {
    "name": "ipython",
    "version": 3
   },
   "file_extension": ".py",
   "mimetype": "text/x-python",
   "name": "python",
   "nbconvert_exporter": "python",
   "pygments_lexer": "ipython3",
   "version": "3.11.5"
  }
 },
 "nbformat": 4,
 "nbformat_minor": 5
}
