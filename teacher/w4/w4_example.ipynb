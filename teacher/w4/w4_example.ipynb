{
 "cells": [
  {
   "cell_type": "code",
   "execution_count": 37,
   "id": "c9c66c48-26e8-4f36-892b-4785e864df3a",
   "metadata": {},
   "outputs": [
    {
     "name": "stdout",
     "output_type": "stream",
     "text": [
      "True\n",
      "egg\n"
     ]
    }
   ],
   "source": [
    "class Animal:\n",
    "\tdef __init__(self, food):\n",
    "\t\tself.blood = True\n",
    "\t\tself.__alive = True\n",
    "\t\tself.__food = food\n",
    "\t\n",
    "\tdef __say_something(self):\n",
    "\t\tprint(\"this tutorial is so long...\")\n",
    "\t\n",
    "\tdef set_food(self, new_food):\n",
    "\t\tself.__food = new_food\n",
    "\t\t\n",
    "\tdef get_food(self):\n",
    "\t\tprint(self.__food)\n",
    "\t\t\n",
    "dog = Animal(\"meat\")\n",
    "\n",
    "print(dog.blood)\n",
    "#print(dog.__food)\n",
    "# AttributeError: type object 'Animal' has no attribute '__food'\n",
    "dog.set_food(\"egg\")\n",
    "dog.get_food()"
   ]
  },
  {
   "cell_type": "code",
   "execution_count": 2,
   "id": "04ceca5f-e828-4d2f-afbf-8f305a94f7d4",
   "metadata": {},
   "outputs": [
    {
     "name": "stdout",
     "output_type": "stream",
     "text": [
      "Area of rectangle: 200\n",
      "Perimeter of rectangle: 60\n"
     ]
    }
   ],
   "source": [
    "from abc import ABC, abstractmethod\n",
    "\n",
    "class Shape(ABC):\n",
    "    @abstractmethod\n",
    "    def area(self):\n",
    "        pass\n",
    "\n",
    "    @abstractmethod\n",
    "    def perimeter(self):\n",
    "        pass\n",
    "    def calculate_area(shape):\n",
    "        if isinstance(shape, Shape):\n",
    "            return shape.area()\n",
    "        else:\n",
    "            raise TypeError(\"Expected an object of type Shape.\")\n",
    "#r = Shape()\n",
    "#print(\"Area of rectangle:\", r.area())\n",
    "\n",
    "class Rectangle(Shape):\n",
    "    def __init__(self, width, height):\n",
    "        self.width = width\n",
    "        self.height = height\n",
    "\n",
    "    def area(self):\n",
    "        return (self.width * self.height)\n",
    "\n",
    "    def perimeter(self):\n",
    "        return (2 * (self.width + self.height)) \n",
    "\n",
    "class Circle(Shape):\n",
    "    def __init__(self, radius):\n",
    "        self.radius = radius\n",
    "\n",
    "    def area(self):\n",
    "        return (3.14 * (self.radius ** 2))\n",
    "\n",
    "    def perimeter(self):\n",
    "        return (2 * 3.14 * self.radius)\n",
    "\n",
    "r = Rectangle(10, 20)\n",
    "print(\"Area of rectangle:\", r.calculate_area())\n",
    "print(\"Perimeter of rectangle:\", r.perimeter())"
   ]
  },
  {
   "cell_type": "code",
   "execution_count": 34,
   "id": "aa5d5a3d-8611-4c59-9fb3-4bb52fe45962",
   "metadata": {},
   "outputs": [
    {
     "name": "stdout",
     "output_type": "stream",
     "text": [
      "Inside decorator_function\n",
      "\n",
      "Before dog_bark is called.\n",
      "Bark !!!\n",
      "After dog_bark is called.\n",
      "\n"
     ]
    }
   ],
   "source": [
    "## Decorator\n",
    "def decorator_function(original_function):\n",
    "    print(\"Inside decorator\")\n",
    "    def wrapper():\n",
    "        print(f\"\\nBefore {original_function.__name__} is called.\")\n",
    "        original_function()\n",
    "        print(f\"After {original_function.__name__} is called.\\n\")\n",
    "    return wrapper\n",
    "\n",
    "@decorator_function\n",
    "def dog_bark():\n",
    "    print(\"Bark !!!\")\n",
    "\n",
    "# Calling the decorated function\n",
    "dog_bark()"
   ]
  },
  {
   "cell_type": "code",
   "execution_count": 4,
   "id": "cb8451a4-7933-4d21-af68-45aff047345e",
   "metadata": {},
   "outputs": [
    {
     "name": "stdout",
     "output_type": "stream",
     "text": [
      "\n",
      "Before dog_bark is called.\n",
      "Bark !!!\n",
      "After dog_bark is called.\n",
      "\n"
     ]
    }
   ],
   "source": [
    "## Decorator \n",
    "def decorator_function(original_function):\n",
    "    print(\"Inside decorator\")\n",
    "    def wrap():\n",
    "        print(f\"\\nBefore {original_function.__name__} is called.\")\n",
    "        original_function()\n",
    "        print(f\"After {original_function.__name__} is called.\\n\")\n",
    "\n",
    "    return wrap\n",
    "\n",
    "\n",
    "def dog_bark():\n",
    "    print(\"Bark !!!\")\n",
    "    \n",
    "def cat_miaow():\n",
    "    print(\"Miaow ~~~\")\n",
    "\n",
    "decorator_function(cat_miaow)()\n",
    "# > Now use function 'cat_miaow'\n",
    "# > Miaow ~~~\n",
    "decorator_function(dog_bark)()"
   ]
  },
  {
   "cell_type": "code",
   "execution_count": 6,
   "id": "46d1f3d7-afc8-45e7-9c6b-5272214ab257",
   "metadata": {},
   "outputs": [
    {
     "name": "stdout",
     "output_type": "stream",
     "text": [
      "\n",
      "Before dog_bark is called.\n",
      "Bark !!!\n",
      "After dog_bark is called.\n",
      "\n",
      "wrapper\n"
     ]
    }
   ],
   "source": [
    "## Decorator\n",
    "def decorator_function(original_function):\n",
    "    print(\"Inside decorator\")\n",
    "    def wrapper():\n",
    "        print(f\"\\nBefore {original_function.__name__} is called.\")\n",
    "        original_function()\n",
    "        print(f\"After {original_function.__name__} is called.\\n\")\n",
    "    return wrapper\n",
    "\n",
    "@decorator_function\n",
    "def dog_bark():\n",
    "    print(\"Bark !!!\")\n",
    " \n",
    " \n",
    "dog_bark()\n",
    "\n",
    "## name is change \n",
    "print(dog_bark.__name__)"
   ]
  },
  {
   "cell_type": "code",
   "execution_count": 31,
   "id": "fae23585-8b67-47d7-9d6f-6e0eeceb8c13",
   "metadata": {},
   "outputs": [
    {
     "name": "stdout",
     "output_type": "stream",
     "text": [
      "\n",
      "Before dog_bark is called.\n",
      "Bark !!!\n",
      "After dog_bark is called.\n",
      "\n",
      "dog_bark\n"
     ]
    }
   ],
   "source": [
    "from functools import wraps\n",
    "\n",
    "def decorator_function(original_function):\n",
    "    print(\"Inside decorator\")\n",
    "    @wraps(original_function)\n",
    "    def wrapper(*args, **kwargs):\n",
    "        print(f\"\\nBefore {original_function.__name__} is called.\")\n",
    "        original_function()\n",
    "        print(f\"After {original_function.__name__} is called.\\n\")\n",
    "    return wrapper\n",
    "\n",
    "@decorator_function\n",
    "def dog_bark():\n",
    "    print(\"Bark !!!\")\n",
    " \n",
    "dog_bark()\n",
    "print(dog_bark.__name__)"
   ]
  },
  {
   "cell_type": "code",
   "execution_count": 4,
   "id": "9a22a0ec-1a2f-4f82-b6b1-581a0eb855ca",
   "metadata": {},
   "outputs": [
    {
     "name": "stdout",
     "output_type": "stream",
     "text": [
      "Inside decorator\n",
      "Inside outer decorator\n",
      "Inside decorator\n",
      "Inside outer decorator\n",
      "\n",
      "before call big\n",
      "\n",
      "Big Dog:  Woof!!!Woof!!!Woof!!!\n",
      "after call big\n",
      "\n",
      "before call small\n",
      "\n",
      "Small Dog: Yip!!!\n",
      "Yip!!!Yip!!!Yip!!!Yip!!!Yip!!!\n",
      "after call small\n"
     ]
    }
   ],
   "source": [
    "def decorator_function(size):\n",
    "    print(\"Inside decorator\")\n",
    "    def outer_wrapper(f):\n",
    "        print(\"Inside outer decorator\")\n",
    "        def wrapper(*args, **kargs):\n",
    "            print(f\"\\nbefore call {size}\")\n",
    "            result = f(*args, **kargs)\n",
    "            print(f\"\\nafter call {size}\")\n",
    "            return result\n",
    "        return wrapper\n",
    "        \n",
    "    return outer_wrapper\n",
    "\n",
    "@decorator_function('big')\n",
    "def big_dog_bark(number,sound):  \n",
    "    print(\"\\nBig Dog: \", end=\" \")\n",
    "    for i in range(number):\n",
    "        print(sound, end=\"!!!\" )\n",
    "    \n",
    "\n",
    "@decorator_function('small')\n",
    "def small_dog_bark(number,sound):\n",
    "    print(f\"\\nSmall Dog: {sound}!!!\")\n",
    "    for i in range(number):\n",
    "        print(sound, end=\"!!!\" )\n",
    "        \n",
    "big_dog_bark(3,\"Woof\")\n",
    "small_dog_bark(5,\"Yip\")"
   ]
  },
  {
   "cell_type": "code",
   "execution_count": 11,
   "id": "7f1b81ac-9934-42f6-bc77-1762aa569a4d",
   "metadata": {},
   "outputs": [
    {
     "name": "stdout",
     "output_type": "stream",
     "text": [
      "Inside decorator\n"
     ]
    }
   ],
   "source": [
    "def decorator_function(size):\n",
    "    print(\"Inside decorator\")\n",
    "    def outer_wrapper(f):\n",
    "        print(\"Inside outer decorator\")\n",
    "        def wrapper(*args, **kargs):\n",
    "            print(f\"\\nbefore call {size}\")\n",
    "            result = f(*args, **kargs)\n",
    "            print(f\"\\nafter call {size}\")\n",
    "            return result\n",
    "        return wrapper\n",
    "        \n",
    "    return outer_wrapper\n",
    "\n",
    "@decorator_function\n",
    "def big_dog_bark(number,sound):  \n",
    "    print(\"\\nBig Dog: \", end=\" \")\n",
    "    for i in range(number):\n",
    "        print(sound, end=\"!!!\" )\n",
    "         "
   ]
  },
  {
   "cell_type": "code",
   "execution_count": 12,
   "id": "b9dba98d-cf1e-40e6-9bb5-afd6505fed52",
   "metadata": {},
   "outputs": [
    {
     "name": "stdout",
     "output_type": "stream",
     "text": [
      "Inside decorator\n",
      "Inside outer decorator\n"
     ]
    }
   ],
   "source": [
    "def decorator_function(size):\n",
    "    print(\"Inside decorator\")\n",
    "    def outer_wrapper(f):\n",
    "        print(\"Inside outer decorator\")\n",
    "        def wrapper(*args, **kargs):\n",
    "            print(f\"\\nbefore call {size}\")\n",
    "            result = f(*args, **kargs)\n",
    "            print(f\"\\nafter call {size}\")\n",
    "            return result\n",
    "        return wrapper        \n",
    "    return outer_wrapper\n",
    "\n",
    "@decorator_function('big')\n",
    "def big_dog_bark(number,sound):  \n",
    "    print(\"\\nBig Dog: \", end=\" \")\n",
    "    for i in range(number):\n",
    "        print(sound, end=\"!!!\" )"
   ]
  },
  {
   "cell_type": "code",
   "execution_count": 3,
   "id": "dac8636b-d496-489d-9c22-6707d07add5a",
   "metadata": {},
   "outputs": [
    {
     "name": "stdout",
     "output_type": "stream",
     "text": [
      "(2, 3, 4)\n",
      "{'abc': 't1', 'abc2': 't2'}\n"
     ]
    }
   ],
   "source": [
    "def test_arguement(*args, **kargs):\n",
    "    print(args)\n",
    "    print(kargs)\n",
    "\n",
    "test_arguement(2,3,4,abc=\"t1\",abc2=\"t2\")\n"
   ]
  },
  {
   "cell_type": "code",
   "execution_count": 13,
   "id": "bb9577b3-82dc-4405-b9af-8ca733712c95",
   "metadata": {},
   "outputs": [
    {
     "name": "stdout",
     "output_type": "stream",
     "text": [
      "\n",
      "Before dog_bark is called.\n",
      "Bark !!!\n",
      "After dog_bark is called.\n",
      "\n"
     ]
    }
   ],
   "source": [
    "class decorator_class(object):\n",
    "    def __init__(self, func):\n",
    "        self.func = func\n",
    "    def __call__(self, *args, **kwargs):        \n",
    "        print(f\"\\nBefore {self.func.__name__} is called.\")\n",
    "        self.func(*args, **kwargs)\n",
    "        print(f\"After {self.func.__name__} is called.\\n\")\n",
    "\n",
    "@decorator_class\n",
    "def dog_bark():\n",
    "    print(\"Bark !!!\")\n",
    " \n",
    "dog_bark()"
   ]
  },
  {
   "cell_type": "code",
   "execution_count": 19,
   "id": "52c3be60-da5e-4671-9fc9-6698481758c7",
   "metadata": {},
   "outputs": [
    {
     "name": "stdout",
     "output_type": "stream",
     "text": [
      "\n",
      "Before big_dog_bark is called.\n",
      "Big Dog: \n",
      "Woof!!!\n",
      "Woof!!!\n",
      "Woof!!!\n",
      "After big_dog_bark is called.\n",
      "\n"
     ]
    }
   ],
   "source": [
    "class decorator_class(object):\n",
    "    def __init__(self, size):\n",
    "        self.size = size\n",
    "        \n",
    "    def __call__(self, func):\n",
    "        def wrapper(*args, **kwargs):\n",
    "            print(f\"\\nBefore {func.__name__} is called.\")\n",
    "            func(*args, **kwargs)\n",
    "            print(f\"After {func.__name__} is called.\\n\")\n",
    "        return wrapper\n",
    "\n",
    "@decorator_class('big')\n",
    "def big_dog_bark(number,sound):  \n",
    "    print(\"Big Dog: \", end=\"\\n\")\n",
    "    for i in range(number):\n",
    "        print(sound, end=\"!!!\\n\" )\n",
    " \n",
    "big_dog_bark(3,\"Woof\")"
   ]
  },
  {
   "cell_type": "code",
   "execution_count": 23,
   "id": "c2641404-f1e4-4bbb-b29b-297222b9144a",
   "metadata": {},
   "outputs": [
    {
     "name": "stdout",
     "output_type": "stream",
     "text": [
      "[['名字', '國文', '英文', '數學', '理化', '總分', '平均', '名次'], ['John', '72', '88', '88', '84'], ['Eric', '88', '82', '77', '80'], ['Rick', '63', '49', '55', '68'], ['Mary', '72', '64', '82', '74'], ['Alice', '92', '79', '93', '89'], ['Match', '81', '72', '62', '70'], ['Sunny', '78', '77', '51', '72']]\n"
     ]
    }
   ],
   "source": [
    "#pip install gspread\n",
    "import gspread\n",
    "\n",
    "gc = gspread.service_account(filename='python_course_access_cred.json')\n",
    "sh = gc.open_by_url('https://docs.google.com/spreadsheets/d/1nqgiOHVyuIM1p4cBKUsi1HfmkaIhjIQdQYamGbkzOhE/edit#gid=0')\n",
    "\n",
    "cell_range_pattern='c5:j12'\n",
    "cell_range=sh.sheet1.get(cell_range_pattern)\n",
    "\n",
    "print(cell_range)\n",
    "print(type(cell_range))    \n",
    "\n",
    "grade_list_data=list(cell_range)\n",
    "print(type(grade_list_data))"
   ]
  },
  {
   "cell_type": "code",
   "execution_count": null,
   "id": "a6a3a1dc-dc64-42c8-bcc8-8a13dd798d42",
   "metadata": {},
   "outputs": [],
   "source": []
  }
 ],
 "metadata": {
  "kernelspec": {
   "display_name": "Python 3 (ipykernel)",
   "language": "python",
   "name": "python3"
  },
  "language_info": {
   "codemirror_mode": {
    "name": "ipython",
    "version": 3
   },
   "file_extension": ".py",
   "mimetype": "text/x-python",
   "name": "python",
   "nbconvert_exporter": "python",
   "pygments_lexer": "ipython3",
   "version": "3.11.5"
  }
 },
 "nbformat": 4,
 "nbformat_minor": 5
}
